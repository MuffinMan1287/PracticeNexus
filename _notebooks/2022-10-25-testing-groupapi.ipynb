{
 "cells": [
  {
   "cell_type": "markdown",
   "metadata": {},
   "source": [
    "# Final API Test\n",
    "> API\n",
    "\n",
    "- toc: false\n",
    "- badges: true\n",
    "- comments: true\n",
    "- categories: [csp]\n",
    "- image: "
   ]
  },
  {
   "cell_type": "code",
   "execution_count": 9,
   "metadata": {},
   "outputs": [
    {
     "name": "stdout",
     "output_type": "stream",
     "text": [
      "{\"response_code\":0,\"results\":[{\"category\":\"Science: Mathematics\",\"type\":\"multiple\",\"difficulty\":\"medium\",\"question\":\"In the hexadecimal system, what number comes after 9?\",\"correct_answer\":\"The Letter A\",\"incorrect_answers\":[\"10\",\"The Number 0\",\"16\"]},{\"category\":\"Science: Mathematics\",\"type\":\"multiple\",\"difficulty\":\"medium\",\"question\":\"How many zeros are there in a googol?\",\"correct_answer\":\"100\",\"incorrect_answers\":[\"10\",\"1,000\",\"1,000,000\"]},{\"category\":\"Science: Mathematics\",\"type\":\"multiple\",\"difficulty\":\"medium\",\"question\":\"What is the area of a circle with a diameter of 20 inches if &pi;= 3.1415?\",\"correct_answer\":\"314.15 Inches\",\"incorrect_answers\":[\"380.1215 Inches\",\"3141.5 Inches\",\"1256.6 Inches\"]},{\"category\":\"Science: Mathematics\",\"type\":\"multiple\",\"difficulty\":\"medium\",\"question\":\"What are the first 6 digits of the number &quot;Pi&quot;?\",\"correct_answer\":\"3.14159\",\"incorrect_answers\":[\"3.14169\",\"3.12423\",\"3.25812\"]},{\"category\":\"Science: Mathematics\",\"type\":\"multiple\",\"difficulty\":\"medium\",\"question\":\"What is the alphanumeric representation of the imaginary number?\",\"correct_answer\":\"i\",\"incorrect_answers\":[\"e\",\"n\",\"x\"]},{\"category\":\"Science: Mathematics\",\"type\":\"multiple\",\"difficulty\":\"medium\",\"question\":\"To the nearest whole number, how many radians are in a whole circle?\",\"correct_answer\":\"6\",\"incorrect_answers\":[\"3\",\"4\",\"5\"]},{\"category\":\"Science: Mathematics\",\"type\":\"multiple\",\"difficulty\":\"medium\",\"question\":\"What Greek letter is used to signify summation?\",\"correct_answer\":\"Sigma\",\"incorrect_answers\":[\"Delta\",\"Alpha\",\"Omega\"]},{\"category\":\"Science: Mathematics\",\"type\":\"multiple\",\"difficulty\":\"medium\",\"question\":\"Which of the following dice is not a platonic solid?\",\"correct_answer\":\"10-sided die\",\"incorrect_answers\":[\"12-sided die\",\"20-sided die\",\"8-sided die\"]},{\"category\":\"Science: Mathematics\",\"type\":\"multiple\",\"difficulty\":\"medium\",\"question\":\"Which mathematician refused the Fields Medal?\",\"correct_answer\":\"Grigori Perelman\",\"incorrect_answers\":[\"Andrew Wiles\",\"Terence Tao\",\"Edward Witten\"]},{\"category\":\"Science: Mathematics\",\"type\":\"multiple\",\"difficulty\":\"medium\",\"question\":\"In the complex plane, multiplying a given function by i rotates it anti-clockwise by how many degrees?\",\"correct_answer\":\"90\",\"incorrect_answers\":[\"180\",\"270\",\"0\"]}]}\n"
     ]
    }
   ],
   "source": [
    "from flask import Blueprint, jsonify  # jsonify creates an endpoint response object\n",
    "from flask_restful import Api, Resource # used for REST API building\n",
    "import requests  # used for testing\n",
    "\n",
    "url = \"https://opentdb.com/api.php?amount=10&category=19&difficulty=medium&type=multiple\"\n",
    "response = requests.request(\"GET\", url)\n",
    "quiz_data = response\n",
    "\n",
    "print(quiz_data.text)"
   ]
  },
  {
   "cell_type": "code",
   "execution_count": 10,
   "metadata": {},
   "outputs": [
    {
     "name": "stdout",
     "output_type": "stream",
     "text": [
      "In the hexadecimal system, what number comes after 9?\n",
      "How many zeros are there in a googol?\n",
      "What is the area of a circle with a diameter of 20 inches if &pi;= 3.1415?\n",
      "What are the first 6 digits of the number &quot;Pi&quot;?\n",
      "What is the alphanumeric representation of the imaginary number?\n",
      "To the nearest whole number, how many radians are in a whole circle?\n",
      "What Greek letter is used to signify summation?\n",
      "Which of the following dice is not a platonic solid?\n",
      "Which mathematician refused the Fields Medal?\n",
      "In the complex plane, multiplying a given function by i rotates it anti-clockwise by how many degrees?\n"
     ]
    }
   ],
   "source": [
    "results = quiz_data.json().get('results')\n",
    "\n",
    "def IndividualQuestion(a):\n",
    "    a = results\n",
    "    count = 0\n",
    "    for i in a:\n",
    "        q = results[count]\n",
    "        count += 1\n",
    "        print(q['question'])\n",
    "\n",
    "IndividualQuestion(results)"
   ]
  }
 ],
 "metadata": {
  "kernelspec": {
   "display_name": "Python 3.9.12 ('base')",
   "language": "python",
   "name": "python3"
  },
  "language_info": {
   "codemirror_mode": {
    "name": "ipython",
    "version": 3
   },
   "file_extension": ".py",
   "mimetype": "text/x-python",
   "name": "python",
   "nbconvert_exporter": "python",
   "pygments_lexer": "ipython3",
   "version": "3.9.12"
  },
  "orig_nbformat": 4,
  "vscode": {
   "interpreter": {
    "hash": "40d3a090f54c6569ab1632332b64b2c03c39dcf918b08424e98f38b5ae0af88f"
   }
  }
 },
 "nbformat": 4,
 "nbformat_minor": 2
}
