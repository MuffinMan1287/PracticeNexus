{
 "cells": [
  {
   "cell_type": "markdown",
   "metadata": {},
   "source": [
    "# Preparing for the AP Test\n",
    "> This page will be dedicated to the AP test. This will include studying for the AP MCQ portion, as well as information for the Create Task portion.\n",
    "\n",
    "- toc: true \n",
    "- badges: true\n",
    "- comments: true\n",
    "- categories: [jupyter, csp, week3, ap]\n",
    "- image: images/collegeacorn.png"
   ]
  },
  {
   "cell_type": "markdown",
   "metadata": {},
   "source": [
    "## Preparing for the MCQ\n",
    "\n",
    "The multiple choice portion of the AP test will account for 70% of the score. It is a 70 question test to be completed in 2 hours(120 minutes).\n",
    "\n",
    "Question types(according to college board):\n",
    "- 57 single-select multiple-choice\n",
    "- 5 single-select with reading passage about a computing innovation\n",
    "- 8 multiple-select multiple-choice: select 2 answers"
   ]
  },
  {
   "cell_type": "markdown",
   "metadata": {},
   "source": [
    "## Create Task\n",
    "\n",
    "The create task will account for 30% of the AP test score. The task is scored out of 6 points. The task will be graded on the final program code, a video describing the functionality, and a written response.\n",
    "\n",
    "The 6 rows of the rubric are:\n",
    "1. Program Purpose and Function\n",
    "2. Data Abstraction\n",
    "3. Managing Complexity\n",
    "4. Procedural Abstraction\n",
    "5. Algorithm Implementation\n",
    "6. Testing"
   ]
  },
  {
   "cell_type": "markdown",
   "metadata": {},
   "source": [
    "# Ideas\n",
    "\n",
    "It is important for me to keep in mind that the games should be creative and I should try to be unique.\n",
    "\n",
    "Games:\n",
    "- Hangman\n",
    "- Battleship\n",
    "\n"
   ]
  },
  {
   "cell_type": "markdown",
   "metadata": {},
   "source": [
    "## Resources\n",
    "\n",
    "Here are some resources which collegeboard has provided:\n",
    "\n",
    "- [Reference Sheet](https://apcentral.collegeboard.org/media/pdf/ap-computer-science-principles-exam-reference-sheet.pdf)\n",
    "- [Create Task Performance Guidelines](https://apcentral.collegeboard.org/media/pdf/ap22-sg-computer-science-principles.pdf)\n",
    "- "
   ]
  }
 ],
 "metadata": {
  "kernelspec": {
   "display_name": "Python 3.9.12 ('base')",
   "language": "python",
   "name": "python3"
  },
  "language_info": {
   "name": "python",
   "version": "3.9.12"
  },
  "orig_nbformat": 4,
  "vscode": {
   "interpreter": {
    "hash": "40d3a090f54c6569ab1632332b64b2c03c39dcf918b08424e98f38b5ae0af88f"
   }
  }
 },
 "nbformat": 4,
 "nbformat_minor": 2
}
