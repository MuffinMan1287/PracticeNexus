{
 "cells": [
  {
   "cell_type": "markdown",
   "metadata": {},
   "source": [
    "# Python API Test\n",
    "> API\n",
    "\n",
    "- toc: false\n",
    "- badges: true\n",
    "- comments: true\n",
    "- categories: [csp, python, week7]\n",
    "- image: "
   ]
  },
  {
   "cell_type": "markdown",
   "metadata": {},
   "source": [
    "# API Usage\n",
    "\n",
    "We will be using a random math problem generator for our API. This could be used to create a base set of flashcards for users for our project."
   ]
  },
  {
   "cell_type": "code",
   "execution_count": 1,
   "metadata": {},
   "outputs": [
    {
     "name": "stdout",
     "output_type": "stream",
     "text": [
      "Printing response.text\n",
      "{\"title\":\"<h2>Generalised Hamming Numbers<\\/h2>\",\"problem\":\"<div class=\\\"problem_content\\\" role=\\\"problem\\\">\\r\\n<p>A Hamming number is a positive number which has no prime factor larger than 5.<br>\\nSo the first few Hamming numbers are 1, 2, 3, 4, 5, 6, 8, 9, 10, 12, 15.<br>\\nThere are 1105 Hamming numbers not exceeding 10<sup>8<\\/sup>.<\\/p>\\n\\n<p>We will call a positive number a generalised Hamming number of type <var>n<\\/var>, if it has no prime factor larger than <var>n<\\/var>.<br>\\nHence the Hamming numbers are the generalised Hamming numbers of type 5.<\\/p>\\n\\n<p>How many generalised Hamming numbers of type 100 are there which don't exceed 10<sup>9<\\/sup>?<\\/p>\\n<\\/div>\"}\n"
     ]
    }
   ],
   "source": [
    "import requests\n",
    "\n",
    "url = \"https://random-math-problem.p.rapidapi.com/random-problem\"\n",
    "\n",
    "querystring = {\"type\":\"html\"}\n",
    "\n",
    "headers = {\n",
    "\t\"X-RapidAPI-Key\": \"8677538c65mshfd1d85d7adf047fp17a8a1jsn7a54a04df28c\",\n",
    "\t\"X-RapidAPI-Host\": \"random-math-problem.p.rapidapi.com\"\n",
    "}\n",
    "\n",
    "response = requests.request(\"GET\", url, headers=headers, params=querystring)\n",
    "\n",
    "title = response.json().get('title')\n",
    "problem = response.json().get('problem')\n",
    "\n",
    "print(\"Printing response.text\")\n",
    "print(response.text)"
   ]
  },
  {
   "cell_type": "code",
   "execution_count": 2,
   "metadata": {},
   "outputs": [
    {
     "name": "stdout",
     "output_type": "stream",
     "text": [
      "Printing response.json()\n",
      "{'title': '<h2>Generalised Hamming Numbers</h2>', 'problem': '<div class=\"problem_content\" role=\"problem\">\\r\\n<p>A Hamming number is a positive number which has no prime factor larger than 5.<br>\\nSo the first few Hamming numbers are 1, 2, 3, 4, 5, 6, 8, 9, 10, 12, 15.<br>\\nThere are 1105 Hamming numbers not exceeding 10<sup>8</sup>.</p>\\n\\n<p>We will call a positive number a generalised Hamming number of type <var>n</var>, if it has no prime factor larger than <var>n</var>.<br>\\nHence the Hamming numbers are the generalised Hamming numbers of type 5.</p>\\n\\n<p>How many generalised Hamming numbers of type 100 are there which don\\'t exceed 10<sup>9</sup>?</p>\\n</div>'}\n"
     ]
    }
   ],
   "source": [
    "print(\"Printing response.json()\")\n",
    "print(response.json())"
   ]
  },
  {
   "cell_type": "markdown",
   "metadata": {},
   "source": [
    "# Organized Question\n",
    "\n",
    "Each question has a title and a problem. The title is the name of the project, and the problem stores the actual question. Printing each thing will allow the user to see the specific HTML in the "
   ]
  },
  {
   "cell_type": "code",
   "execution_count": 3,
   "metadata": {},
   "outputs": [
    {
     "name": "stdout",
     "output_type": "stream",
     "text": [
      "Printing a title\n",
      "<h2>Generalised Hamming Numbers</h2>\n"
     ]
    }
   ],
   "source": [
    "print(\"Printing a title\")\n",
    "print(title) "
   ]
  },
  {
   "cell_type": "code",
   "execution_count": 4,
   "metadata": {},
   "outputs": [
    {
     "name": "stdout",
     "output_type": "stream",
     "text": [
      "Printing a problem\n",
      "<div class=\"problem_content\" role=\"problem\">\n",
      "<p>A Hamming number is a positive number which has no prime factor larger than 5.<br>\n",
      "So the first few Hamming numbers are 1, 2, 3, 4, 5, 6, 8, 9, 10, 12, 15.<br>\n",
      "There are 1105 Hamming numbers not exceeding 10<sup>8</sup>.</p>\n",
      "\n",
      "<p>We will call a positive number a generalised Hamming number of type <var>n</var>, if it has no prime factor larger than <var>n</var>.<br>\n",
      "Hence the Hamming numbers are the generalised Hamming numbers of type 5.</p>\n",
      "\n",
      "<p>How many generalised Hamming numbers of type 100 are there which don't exceed 10<sup>9</sup>?</p>\n",
      "</div>\n"
     ]
    }
   ],
   "source": [
    "print(\"Printing a problem\")\n",
    "print(problem)"
   ]
  }
 ],
 "metadata": {
  "kernelspec": {
   "display_name": "Python 3.9.12 ('base')",
   "language": "python",
   "name": "python3"
  },
  "language_info": {
   "codemirror_mode": {
    "name": "ipython",
    "version": 3
   },
   "file_extension": ".py",
   "mimetype": "text/x-python",
   "name": "python",
   "nbconvert_exporter": "python",
   "pygments_lexer": "ipython3",
   "version": "3.9.12"
  },
  "orig_nbformat": 4,
  "vscode": {
   "interpreter": {
    "hash": "40d3a090f54c6569ab1632332b64b2c03c39dcf918b08424e98f38b5ae0af88f"
   }
  }
 },
 "nbformat": 4,
 "nbformat_minor": 2
}
