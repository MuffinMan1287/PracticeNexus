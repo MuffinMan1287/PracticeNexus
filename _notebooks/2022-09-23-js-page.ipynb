{
 "cells": [
  {
   "cell_type": "markdown",
   "metadata": {},
   "source": [
    "# Javascript Trial\n",
    "> Testing out Javascript\n",
    "\n",
    "- toc: false\n",
    "- badges: true\n",
    "- comments: true\n",
    "- categories: [csp, js, week5]\n",
    "- image: images/javascriptlogo.png"
   ]
  },
  {
   "cell_type": "markdown",
   "metadata": {},
   "source": [
    "# Javascript\n",
    "\n",
    "Running the \"Hello World\" in Javascript."
   ]
  },
  {
   "cell_type": "code",
   "execution_count": 1,
   "metadata": {},
   "outputs": [
    {
     "name": "stdout",
     "output_type": "stream",
     "text": [
      "Hello World\n"
     ]
    }
   ],
   "source": [
    "console.log(\"Hello World\");"
   ]
  },
  {
   "cell_type": "markdown",
   "metadata": {},
   "source": [
    "# Math Operations in Javascript\n",
    "\n",
    "Javascript allows for calculations through code."
   ]
  },
  {
   "cell_type": "code",
   "execution_count": 5,
   "metadata": {},
   "outputs": [
    {
     "name": "stdout",
     "output_type": "stream",
     "text": [
      "20\n",
      "75\n",
      "759375\n"
     ]
    }
   ],
   "source": [
    "var a = 15;\n",
    "var b = 5;\n",
    "\n",
    "let sum = a + b;\n",
    "let total = a * b;\n",
    "let exponent = a ** b;\n",
    "\n",
    "console.log(sum) // Should print 20\n",
    "console.log(total) // Should print 75\n",
    "console.log(exponent) // Should print 759375"
   ]
  },
  {
   "cell_type": "markdown",
   "metadata": {},
   "source": [
    "# Using an Array\n",
    "\n",
    "This is sort of like a list in python. Has multiple indices."
   ]
  },
  {
   "cell_type": "code",
   "execution_count": 4,
   "metadata": {},
   "outputs": [
    {
     "name": "stdout",
     "output_type": "stream",
     "text": [
      "[ 'YouTube', 'Chrome', 'Clash of Clans' ]\n",
      "Chrome\n",
      "Camera\n"
     ]
    }
   ],
   "source": [
    "var apps = [\"YouTube\", \"Chrome\", \"Clash of Clans\"];\n",
    "console.log(apps)\n",
    "console.log(apps[1])\n",
    "apps.push(\"Camera\")\n",
    "console.log(apps[3])"
   ]
  },
  {
   "cell_type": "markdown",
   "metadata": {},
   "source": [
    "The array helps to compile data into a central object. The whole list can be printed by the console, or just a specific index. Additional items can also be appended to the array."
   ]
  },
  {
   "cell_type": "code",
   "execution_count": 7,
   "metadata": {},
   "outputs": [
    {
     "name": "stdout",
     "output_type": "stream",
     "text": [
      "24\n",
      "1\n"
     ]
    }
   ],
   "source": [
    "function factorial(x) {\n",
    "    if (x === 0 || x === 1) {\n",
    "      return 1;\n",
    "    } else {\n",
    "      return x * factorial(x - 1);\n",
    "    }\n",
    "  }\n",
    "console.log(factorial(4))\n",
    "console.log(factorial(1))"
   ]
  }
 ],
 "metadata": {
  "kernelspec": {
   "display_name": "JavaScript (Node.js)",
   "language": "javascript",
   "name": "javascript"
  },
  "language_info": {
   "file_extension": ".js",
   "mimetype": "application/javascript",
   "name": "javascript",
   "version": "10.13.0"
  },
  "orig_nbformat": 4,
  "vscode": {
   "interpreter": {
    "hash": "40d3a090f54c6569ab1632332b64b2c03c39dcf918b08424e98f38b5ae0af88f"
   }
  }
 },
 "nbformat": 4,
 "nbformat_minor": 2
}
