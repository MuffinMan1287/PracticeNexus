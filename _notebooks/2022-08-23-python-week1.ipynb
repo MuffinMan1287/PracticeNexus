{
 "cells": [
  {
   "cell_type": "markdown",
   "metadata": {},
   "source": [
    "# Python Basics(Week 1)\n",
    "> Page to show basic python skills learned in Week 1.\n",
    "\n",
    "- toc: true \n",
    "- badges: true\n",
    "- comments: true\n",
    "- categories: [jupyter, csp, week1, python]\n",
    "- image: images/python.png"
   ]
  },
  {
   "cell_type": "markdown",
   "metadata": {},
   "source": [
    "# Basic Function\n",
    "\n",
    "Printing the famous \"Hello world\" statement."
   ]
  },
  {
   "cell_type": "code",
   "execution_count": 3,
   "metadata": {},
   "outputs": [
    {
     "name": "stdout",
     "output_type": "stream",
     "text": [
      "Hello world\n"
     ]
    }
   ],
   "source": [
    "print (\"Hello world\") # This is a comment. Allows one to explain their work."
   ]
  },
  {
   "cell_type": "markdown",
   "metadata": {},
   "source": [
    "# Running quiz.py\n",
    "\n",
    "Using the given code from the APCSP website and running the code."
   ]
  },
  {
   "cell_type": "code",
   "execution_count": 2,
   "metadata": {},
   "outputs": [
    {
     "name": "stdout",
     "output_type": "stream",
     "text": [
      "Hello, poonam running /opt/anaconda3/bin/python\n",
      "You will be asked 3 questions.\n",
      "Question: Are you ready to take a test?\n",
      "Answer: Yes!\n",
      "Question: What command is used to include other functions that were previously developed?\n",
      "import is correct!\n",
      "Question: What command is used to evaluate correct or incorrect response in this example?\n",
      "if is correct!\n",
      "Question: Each 'if' command contains an '_________' to determine a true or false condition?\n",
      "expression is correct!\n",
      "poonam you scored 3/3\n"
     ]
    }
   ],
   "source": [
    "import getpass, sys\n",
    "\n",
    "def question_and_answer(prompt):\n",
    "    print(\"Question: \" + prompt)\n",
    "    msg = input()\n",
    "    print(\"Answer: \" + msg)\n",
    "\n",
    "def question_with_response(prompt):\n",
    "    print(\"Question: \" + prompt)\n",
    "    msg = input()\n",
    "    return msg\n",
    "\n",
    "questions = 3\n",
    "correct = 0\n",
    "\n",
    "print('Hello, ' + getpass.getuser() + \" running \" + sys.executable)\n",
    "print(\"You will be asked \" + str(questions) + \" questions.\")\n",
    "question_and_answer(\"Are you ready to take a test?\")\n",
    "\n",
    "rsp = question_with_response(\"What command is used to include other functions that were previously developed?\")\n",
    "if rsp == \"import\":\n",
    "    print(rsp + \" is correct!\")\n",
    "    correct += 1\n",
    "else:\n",
    "    print(rsp + \" is incorrect!\")\n",
    "\n",
    "rsp = question_with_response(\"What command is used to evaluate correct or incorrect response in this example?\")\n",
    "if rsp == \"if\":\n",
    "    print(rsp + \" is correct!\")\n",
    "    correct += 1\n",
    "else:\n",
    "    print(rsp + \" is incorrect!\")\n",
    "\n",
    "rsp = question_with_response(\"Each 'if' command contains an '_________' to determine a true or false condition?\")\n",
    "if rsp == \"expression\":\n",
    "    print(rsp + \" is correct!\")\n",
    "    correct += 1\n",
    "else:\n",
    "    print(rsp + \" is incorrect!\")\n",
    "\n",
    "print(getpass.getuser() + \" you scored \" + str(correct) +\"/\" + str(questions))"
   ]
  },
  {
   "cell_type": "markdown",
   "metadata": {},
   "source": [
    "# My Quiz\n",
    "\n",
    "The quiz which I have created, based on the functions learned in the lesson. Takes advantage of str() to convert floats(numbers) to strings. The use of .lower() also helps to make sure any capitalization configuration of the answer will be marked as correct."
   ]
  },
  {
   "cell_type": "code",
   "execution_count": 11,
   "metadata": {},
   "outputs": [
    {
     "name": "stdout",
     "output_type": "stream",
     "text": [
      "Hello, poonam.\n",
      "Question: How has your day been?\n",
      "Answer: Great!\n",
      "I hope this quiz brightens your day.\n",
      "You will answer 5 quiz questions.\n",
      "Question: What do you call multiple lines of code?\n",
      "Answer: SEQUEnce\n",
      "Correct!\n",
      "Question: How do you get a message from the user?\n",
      "Answer: ask\n",
      "Incorrect.\n",
      "Question: Are numbers a string? Yes or No\n",
      "Answer: NO\n",
      "Correct!\n",
      "Question: What does a function take in?\n",
      "Answer: parameter\n",
      "Correct!\n",
      "Question: If the if portion of a code is not met, what runs?\n",
      "Answer: else\n",
      "Correct!\n",
      "You got 4 of 5 questions correct.\n",
      "Your score is 80.0%.\n"
     ]
    }
   ],
   "source": [
    "import getpass, sys, math # Getting necessary libraries to run the code.\n",
    "\n",
    "# Function with question and response structure.\n",
    "def question(prompt): \n",
    "    print(\"Question: \" + prompt) # Prints question in clear way.\n",
    "    respond = input() # Gets an answer for the question from the user.\n",
    "    print(\"Answer: \" + respond)\n",
    "    return respond # Important to return.\n",
    "\n",
    "# Creating a list for the questions\n",
    "list_question = [\"What do you call multiple lines of code?\", \n",
    "\"How do you get a message from the user?\", \n",
    "\"Are numbers a string? Yes or No\", \n",
    "\"What does a function take in?\", \n",
    "\"If the if portion of a code is not met, what runs?\"]\n",
    "\n",
    "# Creating a list for the answers\n",
    "answer_key = [\"sequence\", \"input\", \"no\", \"parameter\", \"else\"]\n",
    "\n",
    "# Variables\n",
    "question_count = len(list_question) # In this case, question_count = 5, which is the number of indexes in the list\n",
    "score = 0 # Running score on quiz.\n",
    "\n",
    "# Greeting\n",
    "print('Hello, ' + getpass.getuser() + \".\") \n",
    "question(\"How has your day been?\")\n",
    "print(\"I hope this quiz brightens your day.\")\n",
    "print(\"You will answer \" + str(question_count) + \" quiz questions.\")\n",
    "\n",
    "# For loop to repeat\n",
    "for i in range(len(list_question)): # for each i in the range of the question list\n",
    "    response = question(list_question[i]) # using the defined function\n",
    "    check = answer_key[i] # variable for the answer\n",
    "    if response.lower() == check: # .lower() helps account for capitalization\n",
    "        print(\"Correct!\")\n",
    "        score += 1 # Add one to score\n",
    "    else:\n",
    "        print(\"Incorrect.\")\n",
    "\n",
    "\n",
    "\n",
    "# Function for finding percent.\n",
    "def grade(sco, quests): \n",
    "    percent = 100 * float(sco)/float(quests)\n",
    "    return percent\n",
    "\n",
    "quiz_percentage = grade(score, question_count) # Defining variable\n",
    "\n",
    "print(\"You got \" + str(score) + \" of \" + str(question_count) + \" questions correct.\")\n",
    "print(\"Your score is \" + str(quiz_percentage) + \"%.\") # Final print statement with score, as a percentage."
   ]
  },
  {
   "cell_type": "markdown",
   "metadata": {},
   "source": [
    "Running the quiz, we can see it can correctly see if the user types in the right answer or not. Additionally, the code correctly grades the quiz, giving both the number of questions correct and the percentage. Using the for command helps to reduce the amount of code in the program, and the use of lists helps to make this code more adaptable to changes in the question and answer list."
   ]
  }
 ],
 "metadata": {
  "kernelspec": {
   "display_name": "Python 3.9.12 ('base')",
   "language": "python",
   "name": "python3"
  },
  "language_info": {
   "codemirror_mode": {
    "name": "ipython",
    "version": 3
   },
   "file_extension": ".py",
   "mimetype": "text/x-python",
   "name": "python",
   "nbconvert_exporter": "python",
   "pygments_lexer": "ipython3",
   "version": "3.9.12"
  },
  "orig_nbformat": 4,
  "vscode": {
   "interpreter": {
    "hash": "40d3a090f54c6569ab1632332b64b2c03c39dcf918b08424e98f38b5ae0af88f"
   }
  }
 },
 "nbformat": 4,
 "nbformat_minor": 2
}
