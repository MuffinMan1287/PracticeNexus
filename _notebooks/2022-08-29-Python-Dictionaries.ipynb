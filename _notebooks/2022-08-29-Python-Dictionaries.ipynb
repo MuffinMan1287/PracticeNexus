{
 "cells": [
  {
   "cell_type": "markdown",
   "metadata": {},
   "source": [
    "# Python Week 2\n",
    "> Learning about lists and dictionaries.\n",
    "\n",
    "- toc: true \n",
    "- badges: true\n",
    "- comments: true\n",
    "- categories: [jupyter, week2, python, csp]\n",
    "- image: "
   ]
  },
  {
   "cell_type": "markdown",
   "metadata": {},
   "source": [
    "## Running the Code\n",
    "\n",
    "I ran the given code from the APCSP website. I hypothesize that strings, floats, and integers are primitive, as they are simpler, and usually one value. This means that dictionaries and lists are collections, as they are a collection of multiple values."
   ]
  },
  {
   "cell_type": "code",
   "execution_count": 1,
   "metadata": {},
   "outputs": [
    {
     "name": "stdout",
     "output_type": "stream",
     "text": [
      "What is the variable name/key? value? type? primitive or collection, why?\n",
      "name John Doe <class 'str'>\n",
      "\n",
      "What is the variable name/key? value? type? primitive or collection, why?\n",
      "age 18 <class 'int'>\n",
      "\n",
      "What is the variable name/key? value? type? primitive or collection, why?\n",
      "score 90.0 <class 'float'>\n",
      "\n",
      "What is variable name/key? value? type? primitive or collection?\n",
      "What is different about the list output?\n",
      "langs ['Python', 'JavaScript', 'Java'] <class 'list'> length 3\n",
      "- langs[0] Python <class 'str'>\n",
      "\n",
      "What is the variable name/key? value? type? primitive or collection, why?\n",
      "What is different about the dictionary output?\n",
      "person {'name': 'John Doe', 'age': 18, 'score': 90.0, 'langs': ['Python', 'JavaScript', 'Java']} <class 'dict'> length 4\n",
      "- person[\"name\"] John Doe <class 'str'>\n"
     ]
    }
   ],
   "source": [
    "# variable of type string\n",
    "print(\"What is the variable name/key?\", \"value?\", \"type?\", \"primitive or collection, why?\")\n",
    "name = \"John Doe\"\n",
    "print(\"name\", name, type(name))\n",
    "\n",
    "print()\n",
    "\n",
    "\n",
    "# variable of type integer\n",
    "print(\"What is the variable name/key?\", \"value?\", \"type?\", \"primitive or collection, why?\")\n",
    "age = 18\n",
    "print(\"age\", age, type(age))\n",
    "\n",
    "print()\n",
    "\n",
    "# variable of type float\n",
    "print(\"What is the variable name/key?\", \"value?\", \"type?\", \"primitive or collection, why?\")\n",
    "score = 90.0\n",
    "print(\"score\", score, type(score))\n",
    "\n",
    "print()\n",
    "\n",
    "# variable of type list (many values in one variable)\n",
    "print(\"What is variable name/key?\", \"value?\", \"type?\", \"primitive or collection?\")\n",
    "print(\"What is different about the list output?\")\n",
    "langs = [\"Python\", \"JavaScript\", \"Java\"]\n",
    "print(\"langs\", langs, type(langs), \"length\", len(langs))\n",
    "print(\"- langs[0]\", langs[0], type(langs[0]))\n",
    "\n",
    "print()\n",
    "\n",
    "# variable of type dictionary (a group of keys and values)\n",
    "print(\"What is the variable name/key?\", \"value?\", \"type?\", \"primitive or collection, why?\")\n",
    "print(\"What is different about the dictionary output?\")\n",
    "person = {\n",
    "    \"name\": name,\n",
    "    \"age\": age,\n",
    "    \"score\": score,\n",
    "    \"langs\": langs\n",
    "}\n",
    "print(\"person\", person, type(person), \"length\", len(person))\n",
    "print('- person[\"name\"]', person[\"name\"], type(person[\"name\"]))\n",
    "\n",
    "print(langs[1]) # Will output \"Java\"\n",
    "print"
   ]
  },
  {
   "cell_type": "markdown",
   "metadata": {},
   "source": [
    "## Using Append\n",
    "\n",
    "Using the `.append()` function to add more information. Using InfoDb from the APCSP repository. Additionally, this demonstrates using user input to add information to InfoDb."
   ]
  },
  {
   "cell_type": "code",
   "execution_count": 2,
   "metadata": {},
   "outputs": [
    {
     "name": "stdout",
     "output_type": "stream",
     "text": [
      "[{'FirstName': 'John', 'LastName': 'Mortensen', 'DOB': 'October 21', 'Residence': 'San Diego', 'Email': 'jmortensen@powayusd.com', 'Owns_Cars': ['2015-Fusion', '2011-Ranger', '2003-Excursion', '1997-F350', '1969-Cadillac']}, {'FirstName': 'Sunny', 'LastName': 'Naidu', 'DOB': 'August 2', 'Residence': 'Temecula', 'Email': 'snaidu@powayusd.com', 'Owns_Cars': ['4Runner']}, {'FirstName': 'Arnav', 'LastName': 'Kanekar', 'DOB': 'July 3', 'Residence': 'San Diego', 'Email': '**********@*****.***', 'Owns_Cars': 'None'}, {'FirstName': 'John', 'LastName': 'Cena', 'DOB': 'April 23', 'Residence': 'Tampa', 'Email': 'johncena@gmail.com', 'Owns_Cars': '2006 Ford GT, 1970 Plymouth Superbird'}]\n"
     ]
    }
   ],
   "source": [
    "# Define an empty List called InfoDb\n",
    "InfoDb = []\n",
    "\n",
    "# InfoDB is a data structure with expected Keys and Values\n",
    "\n",
    "# Append to List a Dictionary of key/values related to a person and cars\n",
    "InfoDb.append({\n",
    "    \"FirstName\": \"John\",\n",
    "    \"LastName\": \"Mortensen\",\n",
    "    \"DOB\": \"October 21\",\n",
    "    \"Residence\": \"San Diego\",\n",
    "    \"Email\": \"jmortensen@powayusd.com\",\n",
    "    \"Owns_Cars\": [\"2015-Fusion\", \"2011-Ranger\", \"2003-Excursion\", \"1997-F350\", \"1969-Cadillac\"]\n",
    "})\n",
    "\n",
    "# Append to List a 2nd Dictionary of key/values\n",
    "InfoDb.append({\n",
    "    \"FirstName\": \"Sunny\",\n",
    "    \"LastName\": \"Naidu\",\n",
    "    \"DOB\": \"August 2\",\n",
    "    \"Residence\": \"Temecula\",\n",
    "    \"Email\": \"snaidu@powayusd.com\",\n",
    "    \"Owns_Cars\": [\"4Runner\"]\n",
    "})\n",
    "\n",
    "# My information\n",
    "InfoDb.append({\n",
    "    \"FirstName\": \"Arnav\",\n",
    "    \"LastName\": \"Kanekar\",\n",
    "    \"DOB\": \"July 3\",\n",
    "    \"Residence\": \"San Diego\",\n",
    "    \"Email\": \"**********@*****.***\", # Censored\n",
    "    \"Owns_Cars\": \"None\"\n",
    "})\n",
    "\n",
    "# Using input to add information to the dictionary\n",
    "InfoDb.append({\n",
    "    \"FirstName\": input(\"What is your first name?\"),\n",
    "    \"LastName\": input(\"What is your last name?\"),\n",
    "    \"DOB\": input(\"What is your date of birth(Month, day)?\"),\n",
    "    \"Residence\": input(\"Where do you live?\"),\n",
    "    \"Email\": input(\"What is your email?\"), \n",
    "    \"Owns_Cars\": input(\"What cars do you own?\")\n",
    "})\n",
    "\n",
    "# Print the data structure\n",
    "print(InfoDb)"
   ]
  },
  {
   "cell_type": "markdown",
   "metadata": {},
   "source": [
    "## For Loops\n",
    "\n",
    "Using a for loop to iterate through a list."
   ]
  },
  {
   "cell_type": "code",
   "execution_count": 4,
   "metadata": {},
   "outputs": [
    {
     "name": "stdout",
     "output_type": "stream",
     "text": [
      "football\n",
      "track\n",
      "soccer\n",
      "basketball\n",
      "tennis\n"
     ]
    }
   ],
   "source": [
    "sports = [\"football\", \"track\", \"soccer\", \"basketball\", \"tennis\"] # list\n",
    "# iterates based on the range, so in this case it will only iterate 5 times\n",
    "for i in range(5):\n",
    "    print(sports[i]) # would not print more than 5 sports, even if list is longer"
   ]
  },
  {
   "cell_type": "markdown",
   "metadata": {},
   "source": [
    "## For Loop with an Index\n",
    "\n",
    "Creating a list and using a for loop with indexes to print it. This iterates for every index in the list, making it more powerful and easier to code with."
   ]
  },
  {
   "cell_type": "code",
   "execution_count": 13,
   "metadata": {},
   "outputs": [
    {
     "name": "stdout",
     "output_type": "stream",
     "text": [
      "chocolate\n",
      "strawberry\n",
      "vanilla\n"
     ]
    }
   ],
   "source": [
    "cake_flavors = [\"chocolate\", \"strawberry\", \"vanilla\"] # List\n",
    "# For loop, for index in list\n",
    "for i in cake_flavors:\n",
    "    print(i) # Print the flavor"
   ]
  },
  {
   "cell_type": "markdown",
   "metadata": {},
   "source": [
    "## Using the While Loop and Inputs\n",
    "\n",
    "This demonstrates usage of the while loop. The while loop calls a function as long as a certain condition is met. This is also another example of creating dictionaries using inputs."
   ]
  },
  {
   "cell_type": "code",
   "execution_count": 2,
   "metadata": {},
   "outputs": [
    {
     "name": "stdout",
     "output_type": "stream",
     "text": [
      "{'pineapple pizza': '5', 'chicken alfredo': '8', 'fried chicken': '10', 'mango': '9'}\n"
     ]
    }
   ],
   "source": [
    "meals = {} # empty dictionary\n",
    "\n",
    "length = 4\n",
    "\n",
    "# runs as long as there are less than 4 items in the dictionary\n",
    "while len(meals) < length:\n",
    "    name = input(\"Name a food.\")\n",
    "    rating = input(\"How would you rate the meal on a scale of 1 - 10?\")\n",
    "    meals[name] = rating # determines the key and the value\n",
    "\n",
    "print(meals)"
   ]
  },
  {
   "cell_type": "markdown",
   "metadata": {},
   "source": [
    "## Recursion\n",
    "\n",
    "Recursive functions are helpful, but can be inefficient since it keeps on recalling the function."
   ]
  },
  {
   "cell_type": "code",
   "execution_count": 15,
   "metadata": {},
   "outputs": [
    {
     "name": "stdout",
     "output_type": "stream",
     "text": [
      "120\n",
      "1\n",
      "1\n"
     ]
    }
   ],
   "source": [
    "def factorial(i): # defining the function\n",
    "    if i == 0: # will not recall function\n",
    "        return 1\n",
    "    if i == 1: # will not recall function\n",
    "        return i\n",
    "    if i != 1:\n",
    "        return i * factorial(i - 1) # recalls the function, but at lesser value\n",
    "\n",
    "print(factorial(5))\n",
    "print(factorial(0))\n",
    "print(factorial(1))"
   ]
  },
  {
   "cell_type": "markdown",
   "metadata": {},
   "source": [
    "## Tools\n",
    "\n",
    "Using other capabilities to organize lists. These are very useful tools."
   ]
  },
  {
   "cell_type": "markdown",
   "metadata": {},
   "source": [
    "# Reverse Order\n",
    "\n",
    "Command to output a list in reverse order."
   ]
  },
  {
   "cell_type": "code",
   "execution_count": 15,
   "metadata": {},
   "outputs": [
    {
     "name": "stdout",
     "output_type": "stream",
     "text": [
      "[3, 2, 1]\n",
      "[1, 2, 3]\n"
     ]
    }
   ],
   "source": [
    "countdown = [3, 2, 1] # New list\n",
    "print(countdown)\n",
    "countdown.reverse() # Reversing the list\n",
    "print(countdown)"
   ]
  },
  {
   "cell_type": "markdown",
   "metadata": {},
   "source": [
    "This shows that the `.reverse()` statement is used to reverse a list."
   ]
  },
  {
   "cell_type": "markdown",
   "metadata": {},
   "source": [
    "# Sort and Set\n",
    "\n",
    "More functions that can help to alphabetize lists as well as make sure there are no duplicates in the list."
   ]
  },
  {
   "cell_type": "code",
   "execution_count": 6,
   "metadata": {},
   "outputs": [
    {
     "name": "stdout",
     "output_type": "stream",
     "text": [
      "['chocolate', 'strawberry', 'vanilla', 'red velvet', 'lemon', 'marble']\n",
      "['chocolate', 'lemon', 'marble', 'red velvet', 'strawberry', 'vanilla']\n",
      "['chocolate', 'lemon', 'marble', 'red velvet', 'strawberry', 'vanilla', 'lemon', 'german chocolate', 'carrot']\n",
      "{'red velvet', 'carrot', 'marble', 'vanilla', 'german chocolate', 'chocolate', 'lemon', 'strawberry'}\n"
     ]
    }
   ],
   "source": [
    "cake_flavors = [\"chocolate\", \"strawberry\", \"vanilla\"]\n",
    "# Appending multiple items\n",
    "cake_flavors.append(\"red velvet\")\n",
    "cake_flavors.append(\"lemon\")\n",
    "cake_flavors.append(\"marble\")\n",
    "\n",
    "print(cake_flavors) # Printing the new list\n",
    "\n",
    "# Sort function\n",
    "cake_flavors.sort()\n",
    "print(cake_flavors) # Alphabetized list\n",
    "\n",
    "# Appending more flavors\n",
    "cake_flavors.append(\"lemon\")\n",
    "cake_flavors.append(\"german chocolate\")\n",
    "cake_flavors.append(\"carrot\")\n",
    "\n",
    "print(cake_flavors)\n",
    "\n",
    "cake_flavors = set(cake_flavors)\n",
    "\n",
    "print(cake_flavors)\n"
   ]
  },
  {
   "cell_type": "markdown",
   "metadata": {},
   "source": [
    "Showcases the `.append()`, `.sort()`, and `set()`. Append adds a new item to the list, sort puts the list in alphabetical order, and set removes any duplicatte items."
   ]
  },
  {
   "cell_type": "markdown",
   "metadata": {},
   "source": [
    "## Quiz\n",
    "\n",
    "Creating a quiz like last week, except using a list of dictionaries. This makes it easier to store questions and answers as key and value pairs."
   ]
  },
  {
   "cell_type": "code",
   "execution_count": 9,
   "metadata": {},
   "outputs": [
    {
     "name": "stdout",
     "output_type": "stream",
     "text": [
      "Question: What type of language is Python\n",
      "Answer: OBJECT ORiented\n",
      "Your answer is correct.\n",
      "Question: How do you get an output in Python?\n",
      "Answer: pRINT\n",
      "Your answer is correct.\n",
      "Question: Is a dictionary a primitive or a collection?\n",
      "Answer: primitive\n",
      "You are incorrect.\n",
      "Question: How do you add more information to a list?\n",
      "Answer: APPEnd\n",
      "Your answer is correct.\n",
      "Question: What do you need to call to get the value in a dictionary?\n",
      "Answer: kEY\n",
      "Your answer is correct.\n",
      "You got 4 of 5 questions correct.\n",
      "Your score is 80.0%.\n"
     ]
    }
   ],
   "source": [
    "quiz = [] # empty list\n",
    "\n",
    "#variables\n",
    "question_count = 5\n",
    "score = 0\n",
    "\n",
    "# appending some questions\n",
    "quiz.append({\n",
    "    \"What type of language is Python\" : \"object oriented\",\n",
    "    \"How do you get an output in Python?\" : \"print\"\n",
    "})\n",
    "\n",
    "quiz.append({\n",
    "    \"Is a dictionary a primitive or a collection?\" : \"collection\",\n",
    "    \"How do you add more information to a list?\" : \"append\",\n",
    "    \"What do you need to call to get the value in a dictionary?\" : \"key\"\n",
    "})\n",
    "\n",
    "# function to print questions and get answers\n",
    "def questioning(ask):\n",
    "    print(\"Question: \" + ask)\n",
    "    global ans\n",
    "    ans = input()\n",
    "    print(\"Answer: \" + ans)\n",
    "\n",
    "# for loop to iterate through the dictionary\n",
    "for dict in quiz:\n",
    "    for question, answer in dict.items(): # for the key and value pair\n",
    "        questioning(question) # calling function\n",
    "        if ans.lower() == answer:\n",
    "            score += 1\n",
    "            print(\"Your answer is correct.\")\n",
    "        else:\n",
    "            print(\"You are incorrect.\")\n",
    "\n",
    "# percentage calculator from last time\n",
    "def grade(sco, quests): \n",
    "    percent = 100 * float(sco)/float(quests)\n",
    "    return percent\n",
    "\n",
    "quiz_percentage = grade(score, question_count) # Defining variable\n",
    "\n",
    "print(\"You got \" + str(score) + \" of \" + str(question_count) + \" questions correct.\")\n",
    "print(\"Your score is \" + str(quiz_percentage) + \"%.\")"
   ]
  }
 ],
 "metadata": {
  "kernelspec": {
   "display_name": "Python 3.9.12 ('base')",
   "language": "python",
   "name": "python3"
  },
  "language_info": {
   "codemirror_mode": {
    "name": "ipython",
    "version": 3
   },
   "file_extension": ".py",
   "mimetype": "text/x-python",
   "name": "python",
   "nbconvert_exporter": "python",
   "pygments_lexer": "ipython3",
   "version": "3.9.12"
  },
  "orig_nbformat": 4,
  "vscode": {
   "interpreter": {
    "hash": "40d3a090f54c6569ab1632332b64b2c03c39dcf918b08424e98f38b5ae0af88f"
   }
  }
 },
 "nbformat": 4,
 "nbformat_minor": 2
}
