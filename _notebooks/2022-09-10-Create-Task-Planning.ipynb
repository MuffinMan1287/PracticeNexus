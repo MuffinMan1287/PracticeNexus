{
 "cells": [
  {
   "cell_type": "markdown",
   "metadata": {},
   "source": [
    "# Creating the Create Task\n",
    "> This page will be dedicated to planning the Create Task assignment for the AP test.\n",
    "\n",
    "- toc: true \n",
    "- badges: true\n",
    "- comments: true\n",
    "- categories: [jupyter, csp, week3, ap]\n",
    "- image: "
   ]
  },
  {
   "cell_type": "markdown",
   "metadata": {},
   "source": [
    "# Requirements\n",
    "\n",
    "These are the 6 guidelines outlined in the rubric. A good task will include all of these.\n",
    "\n",
    "The 6 rows of the rubric are:\n",
    "1. Program Purpose and Function: The program must have a good use and function\n",
    "2. Data Abstraction: Program should store items in dictionaries or lists\n",
    "3. Managing Complexity: Be able to have multiple variables and values defined in order to make the project work\n",
    "4. Procedural Abstraction: Potentially creating functions\n",
    "5. Algorithm Implementation: Using algorithms\n",
    "6. Testing: Be able to show evidence of testing and debugging"
   ]
  },
  {
   "cell_type": "markdown",
   "metadata": {},
   "source": [
    "# Basic Plan\n",
    "\n",
    "I believe this project would be best done in Javascript or AppLab, since these allow more user interaction than Python does. *This is subject to change based on the language which I feel most comfortable with and I feel that will allow me to create the best project.*"
   ]
  },
  {
   "cell_type": "markdown",
   "metadata": {},
   "source": [
    "# Ideas\n",
    "\n",
    "It is important for me to keep in mind that the games should be creative and I should try to be unique. It might be good to stay away from traditional games.\n",
    "\n",
    "- Calendar Planning\n",
    "Games:\n",
    "- Hangman\n",
    "- Battleship\n"
   ]
  },
  {
   "cell_type": "markdown",
   "metadata": {},
   "source": [
    "# Things to Learn\n",
    "\n",
    "- More experience with languages: Python, Javascript\n",
    "    - Need to work on more projects and code code code\n",
    "- Algorithm implementation: sequencing and selection"
   ]
  }
 ],
 "metadata": {
  "kernelspec": {
   "display_name": "Python 3.9.12 ('base')",
   "language": "python",
   "name": "python3"
  },
  "language_info": {
   "name": "python",
   "version": "3.9.12"
  },
  "orig_nbformat": 4,
  "vscode": {
   "interpreter": {
    "hash": "40d3a090f54c6569ab1632332b64b2c03c39dcf918b08424e98f38b5ae0af88f"
   }
  }
 },
 "nbformat": 4,
 "nbformat_minor": 2
}
